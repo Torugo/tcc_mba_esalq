{
 "cells": [
  {
   "cell_type": "code",
   "execution_count": 1,
   "metadata": {},
   "outputs": [],
   "source": [
    "censo_arquivos = [\"data/dados_censo/MICRODADOS_CADASTRO_CURSOS_2012.CSV\",\n",
    "\"data/dados_censo/MICRODADOS_CADASTRO_CURSOS_2013.CSV\",\n",
    "\"data/dados_censo/MICRODADOS_CADASTRO_CURSOS_2014.CSV\",\n",
    "\"data/dados_censo/MICRODADOS_CADASTRO_CURSOS_2015.CSV\",\n",
    "\"data/dados_censo/MICRODADOS_CADASTRO_CURSOS_2016.CSV\",\n",
    "\"data/dados_censo/MICRODADOS_CADASTRO_CURSOS_2017.CSV\",\n",
    "\"data/dados_censo/MICRODADOS_CADASTRO_CURSOS_2018.CSV\",\n",
    "\"data/dados_censo/MICRODADOS_CADASTRO_CURSOS_2019.CSV\",\n",
    "\"data/dados_censo/MICRODADOS_CADASTRO_CURSOS_2020.CSV\",\n",
    "\"data/dados_censo/MICRODADOS_CADASTRO_CURSOS_2021.CSV\",\n",
    "\"data/dados_censo/MICRODADOS_CADASTRO_CURSOS_2022.CSV\",\n",
    "\"data/dados_censo/MICRODADOS_CADASTRO_CURSOS_2023.CSV\"]"
   ]
  },
  {
   "cell_type": "code",
   "execution_count": 1,
   "metadata": {},
   "outputs": [],
   "source": [
    "import pandas as pd"
   ]
  },
  {
   "cell_type": "code",
   "execution_count": 3,
   "metadata": {},
   "outputs": [
    {
     "name": "stdout",
     "output_type": "stream",
     "text": [
      "Loaded data/dados_censo/MICRODADOS_CADASTRO_CURSOS_2012.CSV, shape: (63855, 201)\n"
     ]
    },
    {
     "name": "stderr",
     "output_type": "stream",
     "text": [
      "/tmp/ipykernel_104046/2080535416.py:7: DtypeWarning: Columns (1,3,4,6) have mixed types. Specify dtype option on import or set low_memory=False.\n",
      "  df = pd.read_csv(file_name, sep=';', encoding='latin1')\n"
     ]
    },
    {
     "name": "stdout",
     "output_type": "stream",
     "text": [
      "Loaded data/dados_censo/MICRODADOS_CADASTRO_CURSOS_2013.CSV, shape: (66126, 201)\n",
      "Loaded data/dados_censo/MICRODADOS_CADASTRO_CURSOS_2014.CSV, shape: (73569, 201)\n",
      "Loaded data/dados_censo/MICRODADOS_CADASTRO_CURSOS_2015.CSV, shape: (81156, 201)\n",
      "Loaded data/dados_censo/MICRODADOS_CADASTRO_CURSOS_2016.CSV, shape: (92866, 201)\n"
     ]
    },
    {
     "name": "stderr",
     "output_type": "stream",
     "text": [
      "/tmp/ipykernel_104046/2080535416.py:7: DtypeWarning: Columns (1,3,4,6) have mixed types. Specify dtype option on import or set low_memory=False.\n",
      "  df = pd.read_csv(file_name, sep=';', encoding='latin1')\n"
     ]
    },
    {
     "name": "stdout",
     "output_type": "stream",
     "text": [
      "Loaded data/dados_censo/MICRODADOS_CADASTRO_CURSOS_2017.CSV, shape: (119798, 201)\n"
     ]
    },
    {
     "name": "stderr",
     "output_type": "stream",
     "text": [
      "/tmp/ipykernel_104046/2080535416.py:7: DtypeWarning: Columns (1,3,4,6) have mixed types. Specify dtype option on import or set low_memory=False.\n",
      "  df = pd.read_csv(file_name, sep=';', encoding='latin1')\n"
     ]
    },
    {
     "name": "stdout",
     "output_type": "stream",
     "text": [
      "Loaded data/dados_censo/MICRODADOS_CADASTRO_CURSOS_2018.CSV, shape: (182892, 201)\n"
     ]
    },
    {
     "name": "stderr",
     "output_type": "stream",
     "text": [
      "/tmp/ipykernel_104046/2080535416.py:7: DtypeWarning: Columns (1,3,4,6) have mixed types. Specify dtype option on import or set low_memory=False.\n",
      "  df = pd.read_csv(file_name, sep=';', encoding='latin1')\n"
     ]
    },
    {
     "name": "stdout",
     "output_type": "stream",
     "text": [
      "Loaded data/dados_censo/MICRODADOS_CADASTRO_CURSOS_2019.CSV, shape: (253139, 201)\n"
     ]
    },
    {
     "name": "stderr",
     "output_type": "stream",
     "text": [
      "/tmp/ipykernel_104046/2080535416.py:7: DtypeWarning: Columns (1,3,4,6) have mixed types. Specify dtype option on import or set low_memory=False.\n",
      "  df = pd.read_csv(file_name, sep=';', encoding='latin1')\n"
     ]
    },
    {
     "name": "stdout",
     "output_type": "stream",
     "text": [
      "Loaded data/dados_censo/MICRODADOS_CADASTRO_CURSOS_2020.CSV, shape: (344691, 201)\n"
     ]
    },
    {
     "name": "stderr",
     "output_type": "stream",
     "text": [
      "/tmp/ipykernel_104046/2080535416.py:7: DtypeWarning: Columns (1,3,4,6) have mixed types. Specify dtype option on import or set low_memory=False.\n",
      "  df = pd.read_csv(file_name, sep=';', encoding='latin1')\n"
     ]
    },
    {
     "name": "stdout",
     "output_type": "stream",
     "text": [
      "Loaded data/dados_censo/MICRODADOS_CADASTRO_CURSOS_2021.CSV, shape: (444786, 201)\n"
     ]
    },
    {
     "name": "stderr",
     "output_type": "stream",
     "text": [
      "/tmp/ipykernel_104046/2080535416.py:7: DtypeWarning: Columns (1,3,4,6) have mixed types. Specify dtype option on import or set low_memory=False.\n",
      "  df = pd.read_csv(file_name, sep=';', encoding='latin1')\n"
     ]
    },
    {
     "name": "stdout",
     "output_type": "stream",
     "text": [
      "Loaded data/dados_censo/MICRODADOS_CADASTRO_CURSOS_2022.CSV, shape: (573019, 201)\n"
     ]
    },
    {
     "name": "stderr",
     "output_type": "stream",
     "text": [
      "/tmp/ipykernel_104046/2080535416.py:7: DtypeWarning: Columns (1,3,4,6) have mixed types. Specify dtype option on import or set low_memory=False.\n",
      "  df = pd.read_csv(file_name, sep=';', encoding='latin1')\n"
     ]
    },
    {
     "name": "stdout",
     "output_type": "stream",
     "text": [
      "Loaded data/dados_censo/MICRODADOS_CADASTRO_CURSOS_2023.CSV, shape: (671610, 203)\n"
     ]
    }
   ],
   "source": [
    "all_dfs = []\n",
    "for file_name in censo_arquivos:\n",
    "    # Create the full file path\n",
    "    # file_path = os.path.join(data_dir, file_name)\n",
    "    \n",
    "    # Read the Excel file with the same parameters you used\n",
    "    df = pd.read_csv(file_name, sep=';', encoding='latin1')\n",
    "    # df = df.iloc[:-1]\n",
    "    \n",
    "    # Optional: Add a column to identify which file this data came from\n",
    "    df['source_file'] = file_name\n",
    "    \n",
    "    # Append to our list of dataframes\n",
    "    all_dfs.append(df)\n",
    "    \n",
    "    # Print confirmation (optional)\n",
    "    print(f\"Loaded {file_name}, shape: {df.shape}\")\n",
    "\n",
    "# Combine all dataframes into one\n",
    "raw_df = pd.concat(all_dfs, ignore_index=True)"
   ]
  },
  {
   "cell_type": "code",
   "execution_count": 7,
   "metadata": {},
   "outputs": [],
   "source": [
    "df.to_parquet(\"data/dados_censo/MICRODADOS_CADASTRO_CURSOS_2012_2023.parquet\")"
   ]
  },
  {
   "cell_type": "code",
   "execution_count": 2,
   "metadata": {},
   "outputs": [],
   "source": [
    "df = pd.read_parquet(\"data/dados_censo/MICRODADOS_CADASTRO_CURSOS_2012_2023.parquet\")"
   ]
  },
  {
   "cell_type": "code",
   "execution_count": 4,
   "metadata": {},
   "outputs": [
    {
     "data": {
      "text/html": [
       "<div>\n",
       "<style scoped>\n",
       "    .dataframe tbody tr th:only-of-type {\n",
       "        vertical-align: middle;\n",
       "    }\n",
       "\n",
       "    .dataframe tbody tr th {\n",
       "        vertical-align: top;\n",
       "    }\n",
       "\n",
       "    .dataframe thead th {\n",
       "        text-align: right;\n",
       "    }\n",
       "</style>\n",
       "<table border=\"1\" class=\"dataframe\">\n",
       "  <thead>\n",
       "    <tr style=\"text-align: right;\">\n",
       "      <th></th>\n",
       "      <th>NU_ANO_CENSO</th>\n",
       "      <th>NO_REGIAO</th>\n",
       "      <th>CO_REGIAO</th>\n",
       "      <th>NO_UF</th>\n",
       "      <th>SG_UF</th>\n",
       "      <th>CO_UF</th>\n",
       "      <th>NO_MUNICIPIO</th>\n",
       "      <th>CO_MUNICIPIO</th>\n",
       "      <th>IN_CAPITAL</th>\n",
       "      <th>TP_DIMENSAO</th>\n",
       "      <th>...</th>\n",
       "      <th>QT_CONC_APOIO_SOCIAL</th>\n",
       "      <th>QT_ATIV_EXTRACURRICULAR</th>\n",
       "      <th>QT_ING_ATIV_EXTRACURRICULAR</th>\n",
       "      <th>QT_MAT_ATIV_EXTRACURRICULAR</th>\n",
       "      <th>QT_CONC_ATIV_EXTRACURRICULAR</th>\n",
       "      <th>QT_MOB_ACADEMICA</th>\n",
       "      <th>QT_ING_MOB_ACADEMICA</th>\n",
       "      <th>QT_MAT_MOB_ACADEMICA</th>\n",
       "      <th>QT_CONC_MOB_ACADEMICA</th>\n",
       "      <th>source_file</th>\n",
       "    </tr>\n",
       "  </thead>\n",
       "  <tbody>\n",
       "    <tr>\n",
       "      <th>0</th>\n",
       "      <td>2023</td>\n",
       "      <td>None</td>\n",
       "      <td>NaN</td>\n",
       "      <td>None</td>\n",
       "      <td>None</td>\n",
       "      <td>NaN</td>\n",
       "      <td>None</td>\n",
       "      <td>NaN</td>\n",
       "      <td>NaN</td>\n",
       "      <td>2</td>\n",
       "      <td>...</td>\n",
       "      <td>0</td>\n",
       "      <td>0</td>\n",
       "      <td>0</td>\n",
       "      <td>0</td>\n",
       "      <td>0</td>\n",
       "      <td>0</td>\n",
       "      <td>0</td>\n",
       "      <td>0</td>\n",
       "      <td>0</td>\n",
       "      <td>data/dados_censo/MICRODADOS_CADASTRO_CURSOS_20...</td>\n",
       "    </tr>\n",
       "    <tr>\n",
       "      <th>1</th>\n",
       "      <td>2023</td>\n",
       "      <td>None</td>\n",
       "      <td>NaN</td>\n",
       "      <td>None</td>\n",
       "      <td>None</td>\n",
       "      <td>NaN</td>\n",
       "      <td>None</td>\n",
       "      <td>NaN</td>\n",
       "      <td>NaN</td>\n",
       "      <td>2</td>\n",
       "      <td>...</td>\n",
       "      <td>0</td>\n",
       "      <td>2</td>\n",
       "      <td>2</td>\n",
       "      <td>2</td>\n",
       "      <td>0</td>\n",
       "      <td>0</td>\n",
       "      <td>0</td>\n",
       "      <td>0</td>\n",
       "      <td>0</td>\n",
       "      <td>data/dados_censo/MICRODADOS_CADASTRO_CURSOS_20...</td>\n",
       "    </tr>\n",
       "    <tr>\n",
       "      <th>2</th>\n",
       "      <td>2023</td>\n",
       "      <td>None</td>\n",
       "      <td>NaN</td>\n",
       "      <td>None</td>\n",
       "      <td>None</td>\n",
       "      <td>NaN</td>\n",
       "      <td>None</td>\n",
       "      <td>NaN</td>\n",
       "      <td>NaN</td>\n",
       "      <td>2</td>\n",
       "      <td>...</td>\n",
       "      <td>0</td>\n",
       "      <td>0</td>\n",
       "      <td>0</td>\n",
       "      <td>0</td>\n",
       "      <td>0</td>\n",
       "      <td>0</td>\n",
       "      <td>0</td>\n",
       "      <td>0</td>\n",
       "      <td>0</td>\n",
       "      <td>data/dados_censo/MICRODADOS_CADASTRO_CURSOS_20...</td>\n",
       "    </tr>\n",
       "    <tr>\n",
       "      <th>3</th>\n",
       "      <td>2023</td>\n",
       "      <td>None</td>\n",
       "      <td>NaN</td>\n",
       "      <td>None</td>\n",
       "      <td>None</td>\n",
       "      <td>NaN</td>\n",
       "      <td>None</td>\n",
       "      <td>NaN</td>\n",
       "      <td>NaN</td>\n",
       "      <td>2</td>\n",
       "      <td>...</td>\n",
       "      <td>0</td>\n",
       "      <td>0</td>\n",
       "      <td>0</td>\n",
       "      <td>0</td>\n",
       "      <td>0</td>\n",
       "      <td>0</td>\n",
       "      <td>0</td>\n",
       "      <td>0</td>\n",
       "      <td>0</td>\n",
       "      <td>data/dados_censo/MICRODADOS_CADASTRO_CURSOS_20...</td>\n",
       "    </tr>\n",
       "    <tr>\n",
       "      <th>4</th>\n",
       "      <td>2023</td>\n",
       "      <td>None</td>\n",
       "      <td>NaN</td>\n",
       "      <td>None</td>\n",
       "      <td>None</td>\n",
       "      <td>NaN</td>\n",
       "      <td>None</td>\n",
       "      <td>NaN</td>\n",
       "      <td>NaN</td>\n",
       "      <td>3</td>\n",
       "      <td>...</td>\n",
       "      <td>0</td>\n",
       "      <td>0</td>\n",
       "      <td>0</td>\n",
       "      <td>0</td>\n",
       "      <td>0</td>\n",
       "      <td>0</td>\n",
       "      <td>0</td>\n",
       "      <td>0</td>\n",
       "      <td>0</td>\n",
       "      <td>data/dados_censo/MICRODADOS_CADASTRO_CURSOS_20...</td>\n",
       "    </tr>\n",
       "  </tbody>\n",
       "</table>\n",
       "<p>5 rows × 203 columns</p>\n",
       "</div>"
      ],
      "text/plain": [
       "   NU_ANO_CENSO NO_REGIAO  CO_REGIAO NO_UF SG_UF  CO_UF NO_MUNICIPIO  \\\n",
       "0          2023      None        NaN  None  None    NaN         None   \n",
       "1          2023      None        NaN  None  None    NaN         None   \n",
       "2          2023      None        NaN  None  None    NaN         None   \n",
       "3          2023      None        NaN  None  None    NaN         None   \n",
       "4          2023      None        NaN  None  None    NaN         None   \n",
       "\n",
       "   CO_MUNICIPIO  IN_CAPITAL  TP_DIMENSAO  ...  QT_CONC_APOIO_SOCIAL  \\\n",
       "0           NaN         NaN            2  ...                     0   \n",
       "1           NaN         NaN            2  ...                     0   \n",
       "2           NaN         NaN            2  ...                     0   \n",
       "3           NaN         NaN            2  ...                     0   \n",
       "4           NaN         NaN            3  ...                     0   \n",
       "\n",
       "   QT_ATIV_EXTRACURRICULAR  QT_ING_ATIV_EXTRACURRICULAR  \\\n",
       "0                        0                            0   \n",
       "1                        2                            2   \n",
       "2                        0                            0   \n",
       "3                        0                            0   \n",
       "4                        0                            0   \n",
       "\n",
       "   QT_MAT_ATIV_EXTRACURRICULAR  QT_CONC_ATIV_EXTRACURRICULAR  \\\n",
       "0                            0                             0   \n",
       "1                            2                             0   \n",
       "2                            0                             0   \n",
       "3                            0                             0   \n",
       "4                            0                             0   \n",
       "\n",
       "   QT_MOB_ACADEMICA QT_ING_MOB_ACADEMICA  QT_MAT_MOB_ACADEMICA  \\\n",
       "0                 0                    0                     0   \n",
       "1                 0                    0                     0   \n",
       "2                 0                    0                     0   \n",
       "3                 0                    0                     0   \n",
       "4                 0                    0                     0   \n",
       "\n",
       "  QT_CONC_MOB_ACADEMICA                                        source_file  \n",
       "0                     0  data/dados_censo/MICRODADOS_CADASTRO_CURSOS_20...  \n",
       "1                     0  data/dados_censo/MICRODADOS_CADASTRO_CURSOS_20...  \n",
       "2                     0  data/dados_censo/MICRODADOS_CADASTRO_CURSOS_20...  \n",
       "3                     0  data/dados_censo/MICRODADOS_CADASTRO_CURSOS_20...  \n",
       "4                     0  data/dados_censo/MICRODADOS_CADASTRO_CURSOS_20...  \n",
       "\n",
       "[5 rows x 203 columns]"
      ]
     },
     "execution_count": 4,
     "metadata": {},
     "output_type": "execute_result"
    }
   ],
   "source": [
    "df.head()"
   ]
  },
  {
   "cell_type": "code",
   "execution_count": null,
   "metadata": {},
   "outputs": [],
   "source": []
  }
 ],
 "metadata": {
  "kernelspec": {
   "display_name": "mba",
   "language": "python",
   "name": "python3"
  },
  "language_info": {
   "codemirror_mode": {
    "name": "ipython",
    "version": 3
   },
   "file_extension": ".py",
   "mimetype": "text/x-python",
   "name": "python",
   "nbconvert_exporter": "python",
   "pygments_lexer": "ipython3",
   "version": "3.11.9"
  }
 },
 "nbformat": 4,
 "nbformat_minor": 2
}

{
 "cells": [
  {
   "cell_type": "code",
   "execution_count": 1,
   "metadata": {},
   "outputs": [],
   "source": [
    "import pandas as pd\n",
    "import numpy as np"
   ]
  },
  {
   "cell_type": "code",
   "execution_count": 2,
   "metadata": {},
   "outputs": [],
   "source": [
    "file_path = \"data/indicadores_trajetoria_educacao_superior_2013_2021.xlsx\""
   ]
  },
  {
   "cell_type": "code",
   "execution_count": 3,
   "metadata": {},
   "outputs": [
    {
     "data": {
      "text/html": [
       "<div>\n",
       "<style scoped>\n",
       "    .dataframe tbody tr th:only-of-type {\n",
       "        vertical-align: middle;\n",
       "    }\n",
       "\n",
       "    .dataframe tbody tr th {\n",
       "        vertical-align: top;\n",
       "    }\n",
       "\n",
       "    .dataframe thead th {\n",
       "        text-align: right;\n",
       "    }\n",
       "</style>\n",
       "<table border=\"1\" class=\"dataframe\">\n",
       "  <thead>\n",
       "    <tr style=\"text-align: right;\">\n",
       "      <th></th>\n",
       "      <th>CO_IES</th>\n",
       "      <th>NO_IES</th>\n",
       "      <th>TP_CATEGORIA_ADMINISTRATIVA</th>\n",
       "      <th>TP_ORGANIZACAO_ACADEMICA</th>\n",
       "      <th>CO_CURSO</th>\n",
       "      <th>NO_CURSO</th>\n",
       "      <th>CO_REGIAO</th>\n",
       "      <th>CO_UF</th>\n",
       "      <th>CO_MUNICIPIO</th>\n",
       "      <th>TP_GRAU_ACADEMICO</th>\n",
       "      <th>...</th>\n",
       "      <th>QT_INGRESSANTE</th>\n",
       "      <th>QT_PERMANENCIA</th>\n",
       "      <th>QT_CONCLUINTE</th>\n",
       "      <th>QT_DESISTENCIA</th>\n",
       "      <th>QT_FALECIDO</th>\n",
       "      <th>TAP</th>\n",
       "      <th>TCA</th>\n",
       "      <th>TDA</th>\n",
       "      <th>TCAN</th>\n",
       "      <th>TADA</th>\n",
       "    </tr>\n",
       "  </thead>\n",
       "  <tbody>\n",
       "    <tr>\n",
       "      <th>0</th>\n",
       "      <td>1</td>\n",
       "      <td>UNIVERSIDADE FEDERAL DE MATO GROSSO</td>\n",
       "      <td>1.0</td>\n",
       "      <td>1.0</td>\n",
       "      <td>1.0</td>\n",
       "      <td>DIREITO</td>\n",
       "      <td>5.0</td>\n",
       "      <td>51.0</td>\n",
       "      <td>5103403.0</td>\n",
       "      <td>1.0</td>\n",
       "      <td>...</td>\n",
       "      <td>94.0</td>\n",
       "      <td>94.0</td>\n",
       "      <td>0.0</td>\n",
       "      <td>0.0</td>\n",
       "      <td>0.0</td>\n",
       "      <td>100.000000</td>\n",
       "      <td>0.000000</td>\n",
       "      <td>0.000000</td>\n",
       "      <td>0.000000</td>\n",
       "      <td>0.000000</td>\n",
       "    </tr>\n",
       "    <tr>\n",
       "      <th>1</th>\n",
       "      <td>1</td>\n",
       "      <td>UNIVERSIDADE FEDERAL DE MATO GROSSO</td>\n",
       "      <td>1.0</td>\n",
       "      <td>1.0</td>\n",
       "      <td>1.0</td>\n",
       "      <td>DIREITO</td>\n",
       "      <td>5.0</td>\n",
       "      <td>51.0</td>\n",
       "      <td>5103403.0</td>\n",
       "      <td>1.0</td>\n",
       "      <td>...</td>\n",
       "      <td>94.0</td>\n",
       "      <td>88.0</td>\n",
       "      <td>1.0</td>\n",
       "      <td>5.0</td>\n",
       "      <td>0.0</td>\n",
       "      <td>93.617021</td>\n",
       "      <td>1.063830</td>\n",
       "      <td>5.319149</td>\n",
       "      <td>1.063830</td>\n",
       "      <td>5.319149</td>\n",
       "    </tr>\n",
       "    <tr>\n",
       "      <th>2</th>\n",
       "      <td>1</td>\n",
       "      <td>UNIVERSIDADE FEDERAL DE MATO GROSSO</td>\n",
       "      <td>1.0</td>\n",
       "      <td>1.0</td>\n",
       "      <td>1.0</td>\n",
       "      <td>DIREITO</td>\n",
       "      <td>5.0</td>\n",
       "      <td>51.0</td>\n",
       "      <td>5103403.0</td>\n",
       "      <td>1.0</td>\n",
       "      <td>...</td>\n",
       "      <td>94.0</td>\n",
       "      <td>80.0</td>\n",
       "      <td>4.0</td>\n",
       "      <td>4.0</td>\n",
       "      <td>0.0</td>\n",
       "      <td>85.106383</td>\n",
       "      <td>5.319149</td>\n",
       "      <td>9.574468</td>\n",
       "      <td>4.255319</td>\n",
       "      <td>4.255319</td>\n",
       "    </tr>\n",
       "    <tr>\n",
       "      <th>3</th>\n",
       "      <td>1</td>\n",
       "      <td>UNIVERSIDADE FEDERAL DE MATO GROSSO</td>\n",
       "      <td>1.0</td>\n",
       "      <td>1.0</td>\n",
       "      <td>1.0</td>\n",
       "      <td>DIREITO</td>\n",
       "      <td>5.0</td>\n",
       "      <td>51.0</td>\n",
       "      <td>5103403.0</td>\n",
       "      <td>1.0</td>\n",
       "      <td>...</td>\n",
       "      <td>94.0</td>\n",
       "      <td>73.0</td>\n",
       "      <td>3.0</td>\n",
       "      <td>4.0</td>\n",
       "      <td>0.0</td>\n",
       "      <td>77.659574</td>\n",
       "      <td>8.510638</td>\n",
       "      <td>13.829787</td>\n",
       "      <td>3.191489</td>\n",
       "      <td>4.255319</td>\n",
       "    </tr>\n",
       "    <tr>\n",
       "      <th>4</th>\n",
       "      <td>1</td>\n",
       "      <td>UNIVERSIDADE FEDERAL DE MATO GROSSO</td>\n",
       "      <td>1.0</td>\n",
       "      <td>1.0</td>\n",
       "      <td>1.0</td>\n",
       "      <td>DIREITO</td>\n",
       "      <td>5.0</td>\n",
       "      <td>51.0</td>\n",
       "      <td>5103403.0</td>\n",
       "      <td>1.0</td>\n",
       "      <td>...</td>\n",
       "      <td>94.0</td>\n",
       "      <td>21.0</td>\n",
       "      <td>45.0</td>\n",
       "      <td>7.0</td>\n",
       "      <td>0.0</td>\n",
       "      <td>22.340426</td>\n",
       "      <td>56.382979</td>\n",
       "      <td>21.276596</td>\n",
       "      <td>47.872340</td>\n",
       "      <td>7.446809</td>\n",
       "    </tr>\n",
       "  </tbody>\n",
       "</table>\n",
       "<p>5 rows × 31 columns</p>\n",
       "</div>"
      ],
      "text/plain": [
       "  CO_IES                               NO_IES  TP_CATEGORIA_ADMINISTRATIVA  \\\n",
       "0      1  UNIVERSIDADE FEDERAL DE MATO GROSSO                          1.0   \n",
       "1      1  UNIVERSIDADE FEDERAL DE MATO GROSSO                          1.0   \n",
       "2      1  UNIVERSIDADE FEDERAL DE MATO GROSSO                          1.0   \n",
       "3      1  UNIVERSIDADE FEDERAL DE MATO GROSSO                          1.0   \n",
       "4      1  UNIVERSIDADE FEDERAL DE MATO GROSSO                          1.0   \n",
       "\n",
       "   TP_ORGANIZACAO_ACADEMICA  CO_CURSO NO_CURSO  CO_REGIAO  CO_UF  \\\n",
       "0                       1.0       1.0  DIREITO        5.0   51.0   \n",
       "1                       1.0       1.0  DIREITO        5.0   51.0   \n",
       "2                       1.0       1.0  DIREITO        5.0   51.0   \n",
       "3                       1.0       1.0  DIREITO        5.0   51.0   \n",
       "4                       1.0       1.0  DIREITO        5.0   51.0   \n",
       "\n",
       "   CO_MUNICIPIO  TP_GRAU_ACADEMICO  ...  QT_INGRESSANTE QT_PERMANENCIA  \\\n",
       "0     5103403.0                1.0  ...            94.0           94.0   \n",
       "1     5103403.0                1.0  ...            94.0           88.0   \n",
       "2     5103403.0                1.0  ...            94.0           80.0   \n",
       "3     5103403.0                1.0  ...            94.0           73.0   \n",
       "4     5103403.0                1.0  ...            94.0           21.0   \n",
       "\n",
       "  QT_CONCLUINTE  QT_DESISTENCIA QT_FALECIDO         TAP        TCA        TDA  \\\n",
       "0           0.0             0.0         0.0  100.000000   0.000000   0.000000   \n",
       "1           1.0             5.0         0.0   93.617021   1.063830   5.319149   \n",
       "2           4.0             4.0         0.0   85.106383   5.319149   9.574468   \n",
       "3           3.0             4.0         0.0   77.659574   8.510638  13.829787   \n",
       "4          45.0             7.0         0.0   22.340426  56.382979  21.276596   \n",
       "\n",
       "        TCAN      TADA  \n",
       "0   0.000000  0.000000  \n",
       "1   1.063830  5.319149  \n",
       "2   4.255319  4.255319  \n",
       "3   3.191489  4.255319  \n",
       "4  47.872340  7.446809  \n",
       "\n",
       "[5 rows x 31 columns]"
      ]
     },
     "execution_count": 3,
     "metadata": {},
     "output_type": "execute_result"
    }
   ],
   "source": [
    "df = pd.read_excel(file_path, header=[8],)  # Assuming the first row contains the header\n",
    "df.head()"
   ]
  },
  {
   "cell_type": "code",
   "execution_count": 4,
   "metadata": {},
   "outputs": [],
   "source": [
    "new_columns = [\n",
    "    \"Código da Instituição\", \"Nome da Instituição\", \"Categoria Administrativa\", \"Organização Acadêmica\",\n",
    "    \"Código do Curso de Graduação\", \"Nome do Curso de Graduação\", \"Código da Região Geográfica do Curso\",\n",
    "    \"Código da Unidade Federativa do Curso\", \"Código do Município do Curso\", \"Grau Acadêmico\", \n",
    "    \"Modalidade de Ensino\", \"Código da área do Curso segundo a classificação CINE BRASIL\", \n",
    "    \"Nome da área do Curso segundo a classificação CINE BRASIL\", \n",
    "    \"Código da Grande Área do Curso segundo a classificação CINE BRASIL\", \n",
    "    \"Nome da Grande Área do Curso segundo a classificação CINE BRASIL\", \"Ano de Ingresso\", \"Ano de Referência\",\n",
    "    \"Prazo de Integralização em Anos\", \"Ano de Integralização do Curso\", \n",
    "    \"Prazo de Acompanhamento do Curso em anos\", \"Ano Máximo de Acompanhamento do Curso\", \n",
    "    \"Quantidade de Ingressantes no Curso\", \"Quantidade de Permanência no Curso no ano de referência\", \n",
    "    \"Quantidade de Concluintes no Curso no ano de referência\", \n",
    "    \"Quantidade de Desistência no Curso no ano de referência\", \n",
    "    \"Quantidade de Falecimentos no Curso no ano de referência\", \"Taxa de Permanência - TAP\", \n",
    "    \"Taxa de Conclusão Acumulada - TCA\", \"Taxa de Desistência Acumulada - TDA\", \n",
    "    \"Taxa de Conclusão Anual - TCAN\", \"Taxa de Desistência Anual - TADA\"\n",
    "]"
   ]
  },
  {
   "cell_type": "code",
   "execution_count": 5,
   "metadata": {},
   "outputs": [],
   "source": [
    "df.columns = new_columns"
   ]
  },
  {
   "cell_type": "code",
   "execution_count": 16,
   "metadata": {},
   "outputs": [
    {
     "data": {
      "text/plain": [
       "Index(['Código da Instituição', 'Nome da Instituição',\n",
       "       'Categoria Administrativa', 'Organização Acadêmica',\n",
       "       'Código do Curso de Graduação', 'Nome do Curso de Graduação',\n",
       "       'Código da Região Geográfica do Curso',\n",
       "       'Código da Unidade Federativa do Curso', 'Código do Município do Curso',\n",
       "       'Grau Acadêmico', 'Modalidade de Ensino',\n",
       "       'Código da área do Curso segundo a classificação CINE BRASIL',\n",
       "       'Nome da área do Curso segundo a classificação CINE BRASIL',\n",
       "       'Código da Grande Área do Curso segundo a classificação CINE BRASIL',\n",
       "       'Nome da Grande Área do Curso segundo a classificação CINE BRASIL',\n",
       "       'Ano de Ingresso', 'Ano de Referência',\n",
       "       'Prazo de Integralização em Anos', 'Ano de Integralização do Curso',\n",
       "       'Prazo de Acompanhamento do Curso em anos',\n",
       "       'Ano Máximo de Acompanhamento do Curso',\n",
       "       'Quantidade de Ingressantes no Curso',\n",
       "       'Quantidade de Permanência no Curso no ano de referência',\n",
       "       'Quantidade de Concluintes no Curso no ano de referência',\n",
       "       'Quantidade de Desistência no Curso no ano de referência',\n",
       "       'Quantidade de Falecimentos no Curso no ano de referência',\n",
       "       'Taxa de Permanência - TAP', 'Taxa de Conclusão Acumulada - TCA',\n",
       "       'Taxa de Desistência Acumulada - TDA', 'Taxa de Conclusão Anual - TCAN',\n",
       "       'Taxa de Desistência Anual - TADA'],\n",
       "      dtype='object')"
      ]
     },
     "execution_count": 16,
     "metadata": {},
     "output_type": "execute_result"
    }
   ],
   "source": [
    "df.columns"
   ]
  },
  {
   "cell_type": "code",
   "execution_count": 18,
   "metadata": {},
   "outputs": [],
   "source": [
    "df = df.dropna()"
   ]
  },
  {
   "cell_type": "code",
   "execution_count": 19,
   "metadata": {},
   "outputs": [],
   "source": [
    "# Identify target variable and predictor variables\n",
    "target_column = 'Taxa de Desistência Acumulada - TDA'\n",
    "predictors = df.columns[df.columns != target_column]\n",
    "\n",
    "# Preprocess categorical variables using one-hot encoding\n",
    "categorical_cols = ['Categoria Administrativa', 'Organização Acadêmica', \n",
    "                    'Modalidade de Ensino', 'Nome da área do Curso segundo a classificação CINE BRASIL',\n",
    "                    'Nome da Grande Área do Curso segundo a classificação CINE BRASIL']"
   ]
  },
  {
   "cell_type": "code",
   "execution_count": 20,
   "metadata": {},
   "outputs": [],
   "source": [
    "df_encoded = pd.get_dummies(df, columns=categorical_cols)"
   ]
  },
  {
   "cell_type": "code",
   "execution_count": 21,
   "metadata": {},
   "outputs": [
    {
     "name": "stdout",
     "output_type": "stream",
     "text": [
      "Requirement already satisfied: scikit-learn in /home/vitor/.pyenv/versions/3.11.9/envs/mba/lib/python3.11/site-packages (1.6.1)\n",
      "Requirement already satisfied: scipy in /home/vitor/.pyenv/versions/3.11.9/envs/mba/lib/python3.11/site-packages (1.15.1)\n",
      "Requirement already satisfied: matplotlib in /home/vitor/.pyenv/versions/3.11.9/envs/mba/lib/python3.11/site-packages (3.10.0)\n",
      "Requirement already satisfied: numpy>=1.19.5 in /home/vitor/.pyenv/versions/3.11.9/envs/mba/lib/python3.11/site-packages (from scikit-learn) (1.26.4)\n",
      "Requirement already satisfied: joblib>=1.2.0 in /home/vitor/.pyenv/versions/3.11.9/envs/mba/lib/python3.11/site-packages (from scikit-learn) (1.4.2)\n",
      "Requirement already satisfied: threadpoolctl>=3.1.0 in /home/vitor/.pyenv/versions/3.11.9/envs/mba/lib/python3.11/site-packages (from scikit-learn) (3.5.0)\n",
      "Requirement already satisfied: contourpy>=1.0.1 in /home/vitor/.pyenv/versions/3.11.9/envs/mba/lib/python3.11/site-packages (from matplotlib) (1.2.1)\n",
      "Requirement already satisfied: cycler>=0.10 in /home/vitor/.pyenv/versions/3.11.9/envs/mba/lib/python3.11/site-packages (from matplotlib) (0.12.1)\n",
      "Requirement already satisfied: fonttools>=4.22.0 in /home/vitor/.pyenv/versions/3.11.9/envs/mba/lib/python3.11/site-packages (from matplotlib) (4.52.4)\n",
      "Requirement already satisfied: kiwisolver>=1.3.1 in /home/vitor/.pyenv/versions/3.11.9/envs/mba/lib/python3.11/site-packages (from matplotlib) (1.4.5)\n",
      "Requirement already satisfied: packaging>=20.0 in /home/vitor/.pyenv/versions/3.11.9/envs/mba/lib/python3.11/site-packages (from matplotlib) (24.0)\n",
      "Requirement already satisfied: pillow>=8 in /home/vitor/.pyenv/versions/3.11.9/envs/mba/lib/python3.11/site-packages (from matplotlib) (10.3.0)\n",
      "Requirement already satisfied: pyparsing>=2.3.1 in /home/vitor/.pyenv/versions/3.11.9/envs/mba/lib/python3.11/site-packages (from matplotlib) (3.1.2)\n",
      "Requirement already satisfied: python-dateutil>=2.7 in /home/vitor/.pyenv/versions/3.11.9/envs/mba/lib/python3.11/site-packages (from matplotlib) (2.9.0.post0)\n",
      "Requirement already satisfied: six>=1.5 in /home/vitor/.pyenv/versions/3.11.9/envs/mba/lib/python3.11/site-packages (from python-dateutil>=2.7->matplotlib) (1.16.0)\n",
      "\n",
      "\u001b[1m[\u001b[0m\u001b[34;49mnotice\u001b[0m\u001b[1;39;49m]\u001b[0m\u001b[39;49m A new release of pip is available: \u001b[0m\u001b[31;49m24.0\u001b[0m\u001b[39;49m -> \u001b[0m\u001b[32;49m25.0\u001b[0m\n",
      "\u001b[1m[\u001b[0m\u001b[34;49mnotice\u001b[0m\u001b[1;39;49m]\u001b[0m\u001b[39;49m To update, run: \u001b[0m\u001b[32;49mpip install --upgrade pip\u001b[0m\n"
     ]
    }
   ],
   "source": [
    "!pip install -U scikit-learn scipy matplotlib"
   ]
  },
  {
   "cell_type": "code",
   "execution_count": 22,
   "metadata": {},
   "outputs": [],
   "source": [
    "from sklearn.preprocessing import StandardScaler, OneHotEncoder\n",
    "from sklearn.model_selection import train_test_split\n",
    "from sklearn.ensemble import RandomForestRegressor, ExtraTreesRegressor\n",
    "from statsmodels.stats.outliers_influence import variance_inflation_factor"
   ]
  },
  {
   "cell_type": "code",
   "execution_count": 27,
   "metadata": {},
   "outputs": [],
   "source": [
    "numerical_cols = [\n",
    "    'Ano de Ingresso',\n",
    "    'Ano de Referência',\n",
    "    'Prazo de Integralização em Anos',\n",
    "    'Quantidade de Ingressantes no Curso',\n",
    "    'Quantidade de Permanência no Curso no ano de referência',\n",
    "    'Quantidade de Concluintes no Curso no ano de referência',\n",
    "    'Quantidade de Desistência no Curso no ano de referência',\n",
    "    'Quantidade de Falecimentos no Curso no ano de referência',\n",
    "    'Taxa de Permanência - TAP',\n",
    "    'Taxa de Conclusão Acumulada - TCA',\n",
    "    'Taxa de Desistência Acumulada - TDA',\n",
    "    'Taxa de Conclusão Anual - TCAN',\n",
    "    'Taxa de Desistência Anual - TADA'\n",
    "]"
   ]
  },
  {
   "cell_type": "code",
   "execution_count": 28,
   "metadata": {},
   "outputs": [],
   "source": [
    "scaler = StandardScaler()\n",
    "df_encoded[numerical_cols] = scaler.fit_transform(df_encoded[numerical_cols])"
   ]
  },
  {
   "cell_type": "code",
   "execution_count": 30,
   "metadata": {},
   "outputs": [
    {
     "ename": "ValueError",
     "evalue": "could not convert string to float: 'UNIVERSIDADE FEDERAL DE MATO GROSSO'",
     "output_type": "error",
     "traceback": [
      "\u001b[0;31m---------------------------------------------------------------------------\u001b[0m",
      "\u001b[0;31mValueError\u001b[0m                                Traceback (most recent call last)",
      "Cell \u001b[0;32mIn[30], line 1\u001b[0m\n\u001b[0;32m----> 1\u001b[0m correlation_matrix \u001b[38;5;241m=\u001b[39m \u001b[43mdf_encoded\u001b[49m\u001b[38;5;241;43m.\u001b[39;49m\u001b[43mcorr\u001b[49m\u001b[43m(\u001b[49m\u001b[43m)\u001b[49m\n",
      "File \u001b[0;32m~/.pyenv/versions/mba/lib/python3.11/site-packages/pandas/core/frame.py:11049\u001b[0m, in \u001b[0;36mDataFrame.corr\u001b[0;34m(self, method, min_periods, numeric_only)\u001b[0m\n\u001b[1;32m  11047\u001b[0m cols \u001b[38;5;241m=\u001b[39m data\u001b[38;5;241m.\u001b[39mcolumns\n\u001b[1;32m  11048\u001b[0m idx \u001b[38;5;241m=\u001b[39m cols\u001b[38;5;241m.\u001b[39mcopy()\n\u001b[0;32m> 11049\u001b[0m mat \u001b[38;5;241m=\u001b[39m \u001b[43mdata\u001b[49m\u001b[38;5;241;43m.\u001b[39;49m\u001b[43mto_numpy\u001b[49m\u001b[43m(\u001b[49m\u001b[43mdtype\u001b[49m\u001b[38;5;241;43m=\u001b[39;49m\u001b[38;5;28;43mfloat\u001b[39;49m\u001b[43m,\u001b[49m\u001b[43m \u001b[49m\u001b[43mna_value\u001b[49m\u001b[38;5;241;43m=\u001b[39;49m\u001b[43mnp\u001b[49m\u001b[38;5;241;43m.\u001b[39;49m\u001b[43mnan\u001b[49m\u001b[43m,\u001b[49m\u001b[43m \u001b[49m\u001b[43mcopy\u001b[49m\u001b[38;5;241;43m=\u001b[39;49m\u001b[38;5;28;43;01mFalse\u001b[39;49;00m\u001b[43m)\u001b[49m\n\u001b[1;32m  11051\u001b[0m \u001b[38;5;28;01mif\u001b[39;00m method \u001b[38;5;241m==\u001b[39m \u001b[38;5;124m\"\u001b[39m\u001b[38;5;124mpearson\u001b[39m\u001b[38;5;124m\"\u001b[39m:\n\u001b[1;32m  11052\u001b[0m     correl \u001b[38;5;241m=\u001b[39m libalgos\u001b[38;5;241m.\u001b[39mnancorr(mat, minp\u001b[38;5;241m=\u001b[39mmin_periods)\n",
      "File \u001b[0;32m~/.pyenv/versions/mba/lib/python3.11/site-packages/pandas/core/frame.py:1993\u001b[0m, in \u001b[0;36mDataFrame.to_numpy\u001b[0;34m(self, dtype, copy, na_value)\u001b[0m\n\u001b[1;32m   1991\u001b[0m \u001b[38;5;28;01mif\u001b[39;00m dtype \u001b[38;5;129;01mis\u001b[39;00m \u001b[38;5;129;01mnot\u001b[39;00m \u001b[38;5;28;01mNone\u001b[39;00m:\n\u001b[1;32m   1992\u001b[0m     dtype \u001b[38;5;241m=\u001b[39m np\u001b[38;5;241m.\u001b[39mdtype(dtype)\n\u001b[0;32m-> 1993\u001b[0m result \u001b[38;5;241m=\u001b[39m \u001b[38;5;28;43mself\u001b[39;49m\u001b[38;5;241;43m.\u001b[39;49m\u001b[43m_mgr\u001b[49m\u001b[38;5;241;43m.\u001b[39;49m\u001b[43mas_array\u001b[49m\u001b[43m(\u001b[49m\u001b[43mdtype\u001b[49m\u001b[38;5;241;43m=\u001b[39;49m\u001b[43mdtype\u001b[49m\u001b[43m,\u001b[49m\u001b[43m \u001b[49m\u001b[43mcopy\u001b[49m\u001b[38;5;241;43m=\u001b[39;49m\u001b[43mcopy\u001b[49m\u001b[43m,\u001b[49m\u001b[43m \u001b[49m\u001b[43mna_value\u001b[49m\u001b[38;5;241;43m=\u001b[39;49m\u001b[43mna_value\u001b[49m\u001b[43m)\u001b[49m\n\u001b[1;32m   1994\u001b[0m \u001b[38;5;28;01mif\u001b[39;00m result\u001b[38;5;241m.\u001b[39mdtype \u001b[38;5;129;01mis\u001b[39;00m \u001b[38;5;129;01mnot\u001b[39;00m dtype:\n\u001b[1;32m   1995\u001b[0m     result \u001b[38;5;241m=\u001b[39m np\u001b[38;5;241m.\u001b[39masarray(result, dtype\u001b[38;5;241m=\u001b[39mdtype)\n",
      "File \u001b[0;32m~/.pyenv/versions/mba/lib/python3.11/site-packages/pandas/core/internals/managers.py:1694\u001b[0m, in \u001b[0;36mBlockManager.as_array\u001b[0;34m(self, dtype, copy, na_value)\u001b[0m\n\u001b[1;32m   1692\u001b[0m         arr\u001b[38;5;241m.\u001b[39mflags\u001b[38;5;241m.\u001b[39mwriteable \u001b[38;5;241m=\u001b[39m \u001b[38;5;28;01mFalse\u001b[39;00m\n\u001b[1;32m   1693\u001b[0m \u001b[38;5;28;01melse\u001b[39;00m:\n\u001b[0;32m-> 1694\u001b[0m     arr \u001b[38;5;241m=\u001b[39m \u001b[38;5;28;43mself\u001b[39;49m\u001b[38;5;241;43m.\u001b[39;49m\u001b[43m_interleave\u001b[49m\u001b[43m(\u001b[49m\u001b[43mdtype\u001b[49m\u001b[38;5;241;43m=\u001b[39;49m\u001b[43mdtype\u001b[49m\u001b[43m,\u001b[49m\u001b[43m \u001b[49m\u001b[43mna_value\u001b[49m\u001b[38;5;241;43m=\u001b[39;49m\u001b[43mna_value\u001b[49m\u001b[43m)\u001b[49m\n\u001b[1;32m   1695\u001b[0m     \u001b[38;5;66;03m# The underlying data was copied within _interleave, so no need\u001b[39;00m\n\u001b[1;32m   1696\u001b[0m     \u001b[38;5;66;03m# to further copy if copy=True or setting na_value\u001b[39;00m\n\u001b[1;32m   1698\u001b[0m \u001b[38;5;28;01mif\u001b[39;00m na_value \u001b[38;5;129;01mis\u001b[39;00m lib\u001b[38;5;241m.\u001b[39mno_default:\n",
      "File \u001b[0;32m~/.pyenv/versions/mba/lib/python3.11/site-packages/pandas/core/internals/managers.py:1753\u001b[0m, in \u001b[0;36mBlockManager._interleave\u001b[0;34m(self, dtype, na_value)\u001b[0m\n\u001b[1;32m   1751\u001b[0m     \u001b[38;5;28;01melse\u001b[39;00m:\n\u001b[1;32m   1752\u001b[0m         arr \u001b[38;5;241m=\u001b[39m blk\u001b[38;5;241m.\u001b[39mget_values(dtype)\n\u001b[0;32m-> 1753\u001b[0m     \u001b[43mresult\u001b[49m\u001b[43m[\u001b[49m\u001b[43mrl\u001b[49m\u001b[38;5;241;43m.\u001b[39;49m\u001b[43mindexer\u001b[49m\u001b[43m]\u001b[49m \u001b[38;5;241m=\u001b[39m arr\n\u001b[1;32m   1754\u001b[0m     itemmask[rl\u001b[38;5;241m.\u001b[39mindexer] \u001b[38;5;241m=\u001b[39m \u001b[38;5;241m1\u001b[39m\n\u001b[1;32m   1756\u001b[0m \u001b[38;5;28;01mif\u001b[39;00m \u001b[38;5;129;01mnot\u001b[39;00m itemmask\u001b[38;5;241m.\u001b[39mall():\n",
      "\u001b[0;31mValueError\u001b[0m: could not convert string to float: 'UNIVERSIDADE FEDERAL DE MATO GROSSO'"
     ]
    }
   ],
   "source": [
    "correlation_matrix = df_encoded.corr()\n"
   ]
  },
  {
   "cell_type": "code",
   "execution_count": null,
   "metadata": {},
   "outputs": [],
   "source": []
  }
 ],
 "metadata": {
  "kernelspec": {
   "display_name": "mba",
   "language": "python",
   "name": "python3"
  },
  "language_info": {
   "codemirror_mode": {
    "name": "ipython",
    "version": 3
   },
   "file_extension": ".py",
   "mimetype": "text/x-python",
   "name": "python",
   "nbconvert_exporter": "python",
   "pygments_lexer": "ipython3",
   "version": "3.11.9"
  }
 },
 "nbformat": 4,
 "nbformat_minor": 2
}

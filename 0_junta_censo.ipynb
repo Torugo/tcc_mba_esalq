{
 "cells": [
  {
   "cell_type": "code",
   "execution_count": 1,
   "metadata": {},
   "outputs": [],
   "source": [
    "censo_arquivos = [\"data/dados_censo/MICRODADOS_CADASTRO_CURSOS_2012.CSV\",\n",
    "\"data/dados_censo/MICRODADOS_CADASTRO_CURSOS_2013.CSV\",\n",
    "\"data/dados_censo/MICRODADOS_CADASTRO_CURSOS_2014.CSV\",\n",
    "\"data/dados_censo/MICRODADOS_CADASTRO_CURSOS_2015.CSV\",\n",
    "\"data/dados_censo/MICRODADOS_CADASTRO_CURSOS_2016.CSV\",\n",
    "\"data/dados_censo/MICRODADOS_CADASTRO_CURSOS_2017.CSV\",\n",
    "\"data/dados_censo/MICRODADOS_CADASTRO_CURSOS_2018.CSV\",\n",
    "\"data/dados_censo/MICRODADOS_CADASTRO_CURSOS_2019.CSV\",\n",
    "\"data/dados_censo/MICRODADOS_CADASTRO_CURSOS_2020.CSV\",\n",
    "\"data/dados_censo/MICRODADOS_CADASTRO_CURSOS_2021.CSV\",\n",
    "\"data/dados_censo/MICRODADOS_CADASTRO_CURSOS_2022.CSV\",\n",
    "\"data/dados_censo/MICRODADOS_CADASTRO_CURSOS_2023.CSV\"]"
   ]
  },
  {
   "cell_type": "code",
   "execution_count": 2,
   "metadata": {},
   "outputs": [],
   "source": [
    "import pandas as pd"
   ]
  },
  {
   "cell_type": "code",
   "execution_count": 3,
   "metadata": {},
   "outputs": [
    {
     "name": "stdout",
     "output_type": "stream",
     "text": [
      "Loaded data/dados_censo/MICRODADOS_CADASTRO_CURSOS_2012.CSV, shape: (63855, 201)\n"
     ]
    },
    {
     "name": "stderr",
     "output_type": "stream",
     "text": [
      "/tmp/ipykernel_324690/2080535416.py:7: DtypeWarning: Columns (1,3,4,6) have mixed types. Specify dtype option on import or set low_memory=False.\n",
      "  df = pd.read_csv(file_name, sep=';', encoding='latin1')\n"
     ]
    },
    {
     "name": "stdout",
     "output_type": "stream",
     "text": [
      "Loaded data/dados_censo/MICRODADOS_CADASTRO_CURSOS_2013.CSV, shape: (66126, 201)\n",
      "Loaded data/dados_censo/MICRODADOS_CADASTRO_CURSOS_2014.CSV, shape: (73569, 201)\n",
      "Loaded data/dados_censo/MICRODADOS_CADASTRO_CURSOS_2015.CSV, shape: (81156, 201)\n",
      "Loaded data/dados_censo/MICRODADOS_CADASTRO_CURSOS_2016.CSV, shape: (92866, 201)\n"
     ]
    },
    {
     "name": "stderr",
     "output_type": "stream",
     "text": [
      "/tmp/ipykernel_324690/2080535416.py:7: DtypeWarning: Columns (1,3,4,6) have mixed types. Specify dtype option on import or set low_memory=False.\n",
      "  df = pd.read_csv(file_name, sep=';', encoding='latin1')\n"
     ]
    },
    {
     "name": "stdout",
     "output_type": "stream",
     "text": [
      "Loaded data/dados_censo/MICRODADOS_CADASTRO_CURSOS_2017.CSV, shape: (119798, 201)\n"
     ]
    },
    {
     "name": "stderr",
     "output_type": "stream",
     "text": [
      "/tmp/ipykernel_324690/2080535416.py:7: DtypeWarning: Columns (1,3,4,6) have mixed types. Specify dtype option on import or set low_memory=False.\n",
      "  df = pd.read_csv(file_name, sep=';', encoding='latin1')\n"
     ]
    },
    {
     "name": "stdout",
     "output_type": "stream",
     "text": [
      "Loaded data/dados_censo/MICRODADOS_CADASTRO_CURSOS_2018.CSV, shape: (182892, 201)\n"
     ]
    },
    {
     "name": "stderr",
     "output_type": "stream",
     "text": [
      "/tmp/ipykernel_324690/2080535416.py:7: DtypeWarning: Columns (1,3,4,6) have mixed types. Specify dtype option on import or set low_memory=False.\n",
      "  df = pd.read_csv(file_name, sep=';', encoding='latin1')\n"
     ]
    },
    {
     "name": "stdout",
     "output_type": "stream",
     "text": [
      "Loaded data/dados_censo/MICRODADOS_CADASTRO_CURSOS_2019.CSV, shape: (253139, 201)\n"
     ]
    },
    {
     "name": "stderr",
     "output_type": "stream",
     "text": [
      "/tmp/ipykernel_324690/2080535416.py:7: DtypeWarning: Columns (1,3,4,6) have mixed types. Specify dtype option on import or set low_memory=False.\n",
      "  df = pd.read_csv(file_name, sep=';', encoding='latin1')\n"
     ]
    },
    {
     "name": "stdout",
     "output_type": "stream",
     "text": [
      "Loaded data/dados_censo/MICRODADOS_CADASTRO_CURSOS_2020.CSV, shape: (344691, 201)\n"
     ]
    },
    {
     "name": "stderr",
     "output_type": "stream",
     "text": [
      "/tmp/ipykernel_324690/2080535416.py:7: DtypeWarning: Columns (1,3,4,6) have mixed types. Specify dtype option on import or set low_memory=False.\n",
      "  df = pd.read_csv(file_name, sep=';', encoding='latin1')\n"
     ]
    },
    {
     "name": "stdout",
     "output_type": "stream",
     "text": [
      "Loaded data/dados_censo/MICRODADOS_CADASTRO_CURSOS_2021.CSV, shape: (444786, 201)\n"
     ]
    },
    {
     "name": "stderr",
     "output_type": "stream",
     "text": [
      "/tmp/ipykernel_324690/2080535416.py:7: DtypeWarning: Columns (1,3,4,6) have mixed types. Specify dtype option on import or set low_memory=False.\n",
      "  df = pd.read_csv(file_name, sep=';', encoding='latin1')\n"
     ]
    },
    {
     "name": "stdout",
     "output_type": "stream",
     "text": [
      "Loaded data/dados_censo/MICRODADOS_CADASTRO_CURSOS_2022.CSV, shape: (573019, 201)\n"
     ]
    },
    {
     "name": "stderr",
     "output_type": "stream",
     "text": [
      "/tmp/ipykernel_324690/2080535416.py:7: DtypeWarning: Columns (1,3,4,6) have mixed types. Specify dtype option on import or set low_memory=False.\n",
      "  df = pd.read_csv(file_name, sep=';', encoding='latin1')\n"
     ]
    },
    {
     "name": "stdout",
     "output_type": "stream",
     "text": [
      "Loaded data/dados_censo/MICRODADOS_CADASTRO_CURSOS_2023.CSV, shape: (671610, 203)\n"
     ]
    }
   ],
   "source": [
    "all_dfs = []\n",
    "for file_name in censo_arquivos:\n",
    "    # Create the full file path\n",
    "    # file_path = os.path.join(data_dir, file_name)\n",
    "    \n",
    "    # Read the Excel file with the same parameters you used\n",
    "    df = pd.read_csv(file_name, sep=';', encoding='latin1')\n",
    "    # df = df.iloc[:-1]\n",
    "    \n",
    "    # Optional: Add a column to identify which file this data came from\n",
    "    df['source_file'] = file_name\n",
    "    \n",
    "    # Append to our list of dataframes\n",
    "    all_dfs.append(df)\n",
    "    \n",
    "    # Print confirmation (optional)\n",
    "    print(f\"Loaded {file_name}, shape: {df.shape}\")\n",
    "\n",
    "# Combine all dataframes into one\n",
    "raw_df = pd.concat(all_dfs, ignore_index=True)"
   ]
  },
  {
   "cell_type": "code",
   "execution_count": 4,
   "metadata": {},
   "outputs": [],
   "source": [
    "# raw_df = raw_df.dropna()"
   ]
  },
  {
   "cell_type": "code",
   "execution_count": 5,
   "metadata": {},
   "outputs": [],
   "source": [
    "raw_df.to_parquet(\"data/dados_censo/MICRODADOS_CADASTRO_CURSOS_2012_2023.parquet\")"
   ]
  },
  {
   "cell_type": "code",
   "execution_count": 6,
   "metadata": {},
   "outputs": [],
   "source": [
    "del raw_df"
   ]
  },
  {
   "cell_type": "code",
   "execution_count": 7,
   "metadata": {},
   "outputs": [],
   "source": [
    "df = pd.read_parquet(\"data/dados_censo/MICRODADOS_CADASTRO_CURSOS_2012_2023.parquet\")"
   ]
  },
  {
   "cell_type": "code",
   "execution_count": 8,
   "metadata": {},
   "outputs": [
    {
     "data": {
      "application/vnd.microsoft.datawrangler.viewer.v0+json": {
       "columns": [
        {
         "name": "index",
         "rawType": "int64",
         "type": "integer"
        },
        {
         "name": "NU_ANO_CENSO",
         "rawType": "int64",
         "type": "integer"
        },
        {
         "name": "NO_REGIAO",
         "rawType": "object",
         "type": "string"
        },
        {
         "name": "CO_REGIAO",
         "rawType": "float64",
         "type": "float"
        },
        {
         "name": "NO_UF",
         "rawType": "object",
         "type": "string"
        },
        {
         "name": "SG_UF",
         "rawType": "object",
         "type": "string"
        },
        {
         "name": "CO_UF",
         "rawType": "float64",
         "type": "float"
        },
        {
         "name": "NO_MUNICIPIO",
         "rawType": "object",
         "type": "string"
        },
        {
         "name": "CO_MUNICIPIO",
         "rawType": "float64",
         "type": "float"
        },
        {
         "name": "IN_CAPITAL",
         "rawType": "float64",
         "type": "float"
        },
        {
         "name": "TP_DIMENSAO",
         "rawType": "int64",
         "type": "integer"
        },
        {
         "name": "TP_ORGANIZACAO_ACADEMICA",
         "rawType": "int64",
         "type": "integer"
        },
        {
         "name": "TP_CATEGORIA_ADMINISTRATIVA",
         "rawType": "int64",
         "type": "integer"
        },
        {
         "name": "TP_REDE",
         "rawType": "float64",
         "type": "float"
        },
        {
         "name": "CO_IES",
         "rawType": "int64",
         "type": "integer"
        },
        {
         "name": "NO_CURSO",
         "rawType": "object",
         "type": "string"
        },
        {
         "name": "CO_CURSO",
         "rawType": "int64",
         "type": "integer"
        },
        {
         "name": "NO_CINE_ROTULO",
         "rawType": "object",
         "type": "string"
        },
        {
         "name": "CO_CINE_ROTULO",
         "rawType": "object",
         "type": "string"
        },
        {
         "name": "CO_CINE_AREA_GERAL",
         "rawType": "int64",
         "type": "integer"
        },
        {
         "name": "NO_CINE_AREA_GERAL",
         "rawType": "object",
         "type": "string"
        },
        {
         "name": "CO_CINE_AREA_ESPECIFICA",
         "rawType": "int64",
         "type": "integer"
        },
        {
         "name": "NO_CINE_AREA_ESPECIFICA",
         "rawType": "object",
         "type": "string"
        },
        {
         "name": "CO_CINE_AREA_DETALHADA",
         "rawType": "int64",
         "type": "integer"
        },
        {
         "name": "NO_CINE_AREA_DETALHADA",
         "rawType": "object",
         "type": "string"
        },
        {
         "name": "TP_GRAU_ACADEMICO",
         "rawType": "float64",
         "type": "float"
        },
        {
         "name": "IN_GRATUITO",
         "rawType": "int64",
         "type": "integer"
        },
        {
         "name": "TP_MODALIDADE_ENSINO",
         "rawType": "int64",
         "type": "integer"
        },
        {
         "name": "TP_NIVEL_ACADEMICO",
         "rawType": "int64",
         "type": "integer"
        },
        {
         "name": "QT_CURSO",
         "rawType": "float64",
         "type": "float"
        },
        {
         "name": "QT_VG_TOTAL",
         "rawType": "float64",
         "type": "float"
        },
        {
         "name": "QT_VG_TOTAL_DIURNO",
         "rawType": "float64",
         "type": "float"
        },
        {
         "name": "QT_VG_TOTAL_NOTURNO",
         "rawType": "float64",
         "type": "float"
        },
        {
         "name": "QT_VG_TOTAL_EAD",
         "rawType": "float64",
         "type": "float"
        },
        {
         "name": "QT_VG_NOVA",
         "rawType": "float64",
         "type": "float"
        },
        {
         "name": "QT_VG_PROC_SELETIVO",
         "rawType": "float64",
         "type": "float"
        },
        {
         "name": "QT_VG_REMANESC",
         "rawType": "float64",
         "type": "float"
        },
        {
         "name": "QT_VG_PROG_ESPECIAL",
         "rawType": "float64",
         "type": "float"
        },
        {
         "name": "QT_INSCRITO_TOTAL",
         "rawType": "float64",
         "type": "float"
        },
        {
         "name": "QT_INSCRITO_TOTAL_DIURNO",
         "rawType": "float64",
         "type": "float"
        },
        {
         "name": "QT_INSCRITO_TOTAL_NOTURNO",
         "rawType": "float64",
         "type": "float"
        },
        {
         "name": "QT_INSCRITO_TOTAL_EAD",
         "rawType": "float64",
         "type": "float"
        },
        {
         "name": "QT_INSC_VG_NOVA",
         "rawType": "float64",
         "type": "float"
        },
        {
         "name": "QT_INSC_PROC_SELETIVO",
         "rawType": "float64",
         "type": "float"
        },
        {
         "name": "QT_INSC_VG_REMANESC",
         "rawType": "float64",
         "type": "float"
        },
        {
         "name": "QT_INSC_VG_PROG_ESPECIAL",
         "rawType": "float64",
         "type": "float"
        },
        {
         "name": "QT_ING",
         "rawType": "float64",
         "type": "float"
        },
        {
         "name": "QT_ING_FEM",
         "rawType": "float64",
         "type": "float"
        },
        {
         "name": "QT_ING_MASC",
         "rawType": "float64",
         "type": "float"
        },
        {
         "name": "QT_ING_DIURNO",
         "rawType": "float64",
         "type": "float"
        },
        {
         "name": "QT_ING_NOTURNO",
         "rawType": "float64",
         "type": "float"
        },
        {
         "name": "QT_ING_VG_NOVA",
         "rawType": "float64",
         "type": "float"
        },
        {
         "name": "QT_ING_VESTIBULAR",
         "rawType": "float64",
         "type": "float"
        },
        {
         "name": "QT_ING_ENEM",
         "rawType": "float64",
         "type": "float"
        },
        {
         "name": "QT_ING_AVALIACAO_SERIADA",
         "rawType": "float64",
         "type": "float"
        },
        {
         "name": "QT_ING_SELECAO_SIMPLIFICA",
         "rawType": "float64",
         "type": "float"
        },
        {
         "name": "QT_ING_EGR",
         "rawType": "float64",
         "type": "float"
        },
        {
         "name": "QT_ING_OUTRO_TIPO_SELECAO",
         "rawType": "float64",
         "type": "float"
        },
        {
         "name": "QT_ING_PROC_SELETIVO",
         "rawType": "float64",
         "type": "float"
        },
        {
         "name": "QT_ING_VG_REMANESC",
         "rawType": "float64",
         "type": "float"
        },
        {
         "name": "QT_ING_VG_PROG_ESPECIAL",
         "rawType": "float64",
         "type": "float"
        },
        {
         "name": "QT_ING_OUTRA_FORMA",
         "rawType": "float64",
         "type": "float"
        },
        {
         "name": "QT_ING_0_17",
         "rawType": "float64",
         "type": "float"
        },
        {
         "name": "QT_ING_18_24",
         "rawType": "float64",
         "type": "float"
        },
        {
         "name": "QT_ING_25_29",
         "rawType": "float64",
         "type": "float"
        },
        {
         "name": "QT_ING_30_34",
         "rawType": "float64",
         "type": "float"
        },
        {
         "name": "QT_ING_35_39",
         "rawType": "float64",
         "type": "float"
        },
        {
         "name": "QT_ING_40_49",
         "rawType": "float64",
         "type": "float"
        },
        {
         "name": "QT_ING_50_59",
         "rawType": "float64",
         "type": "float"
        },
        {
         "name": "QT_ING_60_MAIS",
         "rawType": "float64",
         "type": "float"
        },
        {
         "name": "QT_ING_BRANCA",
         "rawType": "float64",
         "type": "float"
        },
        {
         "name": "QT_ING_PRETA",
         "rawType": "float64",
         "type": "float"
        },
        {
         "name": "QT_ING_PARDA",
         "rawType": "float64",
         "type": "float"
        },
        {
         "name": "QT_ING_AMARELA",
         "rawType": "float64",
         "type": "float"
        },
        {
         "name": "QT_ING_INDIGENA",
         "rawType": "float64",
         "type": "float"
        },
        {
         "name": "QT_ING_CORND",
         "rawType": "float64",
         "type": "float"
        },
        {
         "name": "QT_MAT",
         "rawType": "float64",
         "type": "float"
        },
        {
         "name": "QT_MAT_FEM",
         "rawType": "float64",
         "type": "float"
        },
        {
         "name": "QT_MAT_MASC",
         "rawType": "float64",
         "type": "float"
        },
        {
         "name": "QT_MAT_DIURNO",
         "rawType": "float64",
         "type": "float"
        },
        {
         "name": "QT_MAT_NOTURNO",
         "rawType": "float64",
         "type": "float"
        },
        {
         "name": "QT_MAT_0_17",
         "rawType": "float64",
         "type": "float"
        },
        {
         "name": "QT_MAT_18_24",
         "rawType": "float64",
         "type": "float"
        },
        {
         "name": "QT_MAT_25_29",
         "rawType": "float64",
         "type": "float"
        },
        {
         "name": "QT_MAT_30_34",
         "rawType": "float64",
         "type": "float"
        },
        {
         "name": "QT_MAT_35_39",
         "rawType": "float64",
         "type": "float"
        },
        {
         "name": "QT_MAT_40_49",
         "rawType": "float64",
         "type": "float"
        },
        {
         "name": "QT_MAT_50_59",
         "rawType": "float64",
         "type": "float"
        },
        {
         "name": "QT_MAT_60_MAIS",
         "rawType": "float64",
         "type": "float"
        },
        {
         "name": "QT_MAT_BRANCA",
         "rawType": "float64",
         "type": "float"
        },
        {
         "name": "QT_MAT_PRETA",
         "rawType": "float64",
         "type": "float"
        },
        {
         "name": "QT_MAT_PARDA",
         "rawType": "float64",
         "type": "float"
        },
        {
         "name": "QT_MAT_AMARELA",
         "rawType": "float64",
         "type": "float"
        },
        {
         "name": "QT_MAT_INDIGENA",
         "rawType": "float64",
         "type": "float"
        },
        {
         "name": "QT_MAT_CORND",
         "rawType": "float64",
         "type": "float"
        },
        {
         "name": "QT_CONC",
         "rawType": "float64",
         "type": "float"
        },
        {
         "name": "QT_CONC_FEM",
         "rawType": "float64",
         "type": "float"
        },
        {
         "name": "QT_CONC_MASC",
         "rawType": "float64",
         "type": "float"
        },
        {
         "name": "QT_CONC_DIURNO",
         "rawType": "float64",
         "type": "float"
        },
        {
         "name": "QT_CONC_NOTURNO",
         "rawType": "float64",
         "type": "float"
        },
        {
         "name": "QT_CONC_0_17",
         "rawType": "float64",
         "type": "float"
        },
        {
         "name": "QT_CONC_18_24",
         "rawType": "float64",
         "type": "float"
        },
        {
         "name": "QT_CONC_25_29",
         "rawType": "float64",
         "type": "float"
        },
        {
         "name": "QT_CONC_30_34",
         "rawType": "float64",
         "type": "float"
        },
        {
         "name": "QT_CONC_35_39",
         "rawType": "float64",
         "type": "float"
        },
        {
         "name": "QT_CONC_40_49",
         "rawType": "float64",
         "type": "float"
        },
        {
         "name": "QT_CONC_50_59",
         "rawType": "float64",
         "type": "float"
        },
        {
         "name": "QT_CONC_60_MAIS",
         "rawType": "float64",
         "type": "float"
        },
        {
         "name": "QT_CONC_BRANCA",
         "rawType": "float64",
         "type": "float"
        },
        {
         "name": "QT_CONC_PRETA",
         "rawType": "float64",
         "type": "float"
        },
        {
         "name": "QT_CONC_PARDA",
         "rawType": "float64",
         "type": "float"
        },
        {
         "name": "QT_CONC_AMARELA",
         "rawType": "float64",
         "type": "float"
        },
        {
         "name": "QT_CONC_INDIGENA",
         "rawType": "float64",
         "type": "float"
        },
        {
         "name": "QT_CONC_CORND",
         "rawType": "float64",
         "type": "float"
        },
        {
         "name": "QT_ING_NACBRAS",
         "rawType": "float64",
         "type": "float"
        },
        {
         "name": "QT_ING_NACESTRANG",
         "rawType": "float64",
         "type": "float"
        },
        {
         "name": "QT_MAT_NACBRAS",
         "rawType": "float64",
         "type": "float"
        },
        {
         "name": "QT_MAT_NACESTRANG",
         "rawType": "float64",
         "type": "float"
        },
        {
         "name": "QT_CONC_NACBRAS",
         "rawType": "float64",
         "type": "float"
        },
        {
         "name": "QT_CONC_NACESTRANG",
         "rawType": "float64",
         "type": "float"
        },
        {
         "name": "QT_ALUNO_DEFICIENTE",
         "rawType": "float64",
         "type": "float"
        },
        {
         "name": "QT_ING_DEFICIENTE",
         "rawType": "float64",
         "type": "float"
        },
        {
         "name": "QT_MAT_DEFICIENTE",
         "rawType": "float64",
         "type": "float"
        },
        {
         "name": "QT_CONC_DEFICIENTE",
         "rawType": "float64",
         "type": "float"
        },
        {
         "name": "QT_ING_FINANC",
         "rawType": "float64",
         "type": "float"
        },
        {
         "name": "QT_ING_FINANC_REEMB",
         "rawType": "float64",
         "type": "float"
        },
        {
         "name": "QT_ING_FIES",
         "rawType": "float64",
         "type": "float"
        },
        {
         "name": "QT_ING_RPFIES",
         "rawType": "float64",
         "type": "float"
        },
        {
         "name": "QT_ING_FINANC_REEMB_OUTROS",
         "rawType": "float64",
         "type": "float"
        },
        {
         "name": "QT_ING_FINANC_NREEMB",
         "rawType": "float64",
         "type": "float"
        },
        {
         "name": "QT_ING_PROUNII",
         "rawType": "float64",
         "type": "float"
        },
        {
         "name": "QT_ING_PROUNIP",
         "rawType": "float64",
         "type": "float"
        },
        {
         "name": "QT_ING_NRPFIES",
         "rawType": "float64",
         "type": "float"
        },
        {
         "name": "QT_ING_FINANC_NREEMB_OUTROS",
         "rawType": "float64",
         "type": "float"
        },
        {
         "name": "QT_MAT_FINANC",
         "rawType": "float64",
         "type": "float"
        },
        {
         "name": "QT_MAT_FINANC_REEMB",
         "rawType": "float64",
         "type": "float"
        },
        {
         "name": "QT_MAT_FIES",
         "rawType": "float64",
         "type": "float"
        },
        {
         "name": "QT_MAT_RPFIES",
         "rawType": "float64",
         "type": "float"
        },
        {
         "name": "QT_MAT_FINANC_REEMB_OUTROS",
         "rawType": "float64",
         "type": "float"
        },
        {
         "name": "QT_MAT_FINANC_NREEMB",
         "rawType": "float64",
         "type": "float"
        },
        {
         "name": "QT_MAT_PROUNII",
         "rawType": "float64",
         "type": "float"
        },
        {
         "name": "QT_MAT_PROUNIP",
         "rawType": "float64",
         "type": "float"
        },
        {
         "name": "QT_MAT_NRPFIES",
         "rawType": "float64",
         "type": "float"
        },
        {
         "name": "QT_MAT_FINANC_NREEMB_OUTROS",
         "rawType": "float64",
         "type": "float"
        },
        {
         "name": "QT_CONC_FINANC",
         "rawType": "float64",
         "type": "float"
        },
        {
         "name": "QT_CONC_FINANC_REEMB",
         "rawType": "float64",
         "type": "float"
        },
        {
         "name": "QT_CONC_FIES",
         "rawType": "float64",
         "type": "float"
        },
        {
         "name": "QT_CONC_RPFIES",
         "rawType": "float64",
         "type": "float"
        },
        {
         "name": "QT_CONC_FINANC_REEMB_OUTROS",
         "rawType": "float64",
         "type": "float"
        },
        {
         "name": "QT_CONC_FINANC_NREEMB",
         "rawType": "float64",
         "type": "float"
        },
        {
         "name": "QT_CONC_PROUNII",
         "rawType": "float64",
         "type": "float"
        },
        {
         "name": "QT_CONC_PROUNIP",
         "rawType": "float64",
         "type": "float"
        },
        {
         "name": "QT_CONC_NRPFIES",
         "rawType": "float64",
         "type": "float"
        },
        {
         "name": "QT_CONC_FINANC_NREEMB_OUTROS",
         "rawType": "float64",
         "type": "float"
        },
        {
         "name": "QT_ING_RESERVA_VAGA",
         "rawType": "float64",
         "type": "float"
        },
        {
         "name": "QT_ING_RVREDEPUBLICA",
         "rawType": "float64",
         "type": "float"
        },
        {
         "name": "QT_ING_RVETNICO",
         "rawType": "float64",
         "type": "float"
        },
        {
         "name": "QT_ING_RVPDEF",
         "rawType": "float64",
         "type": "float"
        },
        {
         "name": "QT_ING_RVSOCIAL_RF",
         "rawType": "float64",
         "type": "float"
        },
        {
         "name": "QT_ING_RVOUTROS",
         "rawType": "float64",
         "type": "float"
        },
        {
         "name": "QT_MAT_RESERVA_VAGA",
         "rawType": "float64",
         "type": "float"
        },
        {
         "name": "QT_MAT_RVREDEPUBLICA",
         "rawType": "float64",
         "type": "float"
        },
        {
         "name": "QT_MAT_RVETNICO",
         "rawType": "float64",
         "type": "float"
        },
        {
         "name": "QT_MAT_RVPDEF",
         "rawType": "float64",
         "type": "float"
        },
        {
         "name": "QT_MAT_RVSOCIAL_RF",
         "rawType": "float64",
         "type": "float"
        },
        {
         "name": "QT_MAT_RVOUTROS",
         "rawType": "float64",
         "type": "float"
        },
        {
         "name": "QT_CONC_RESERVA_VAGA",
         "rawType": "float64",
         "type": "float"
        },
        {
         "name": "QT_CONC_RVREDEPUBLICA",
         "rawType": "float64",
         "type": "float"
        },
        {
         "name": "QT_CONC_RVETNICO",
         "rawType": "float64",
         "type": "float"
        },
        {
         "name": "QT_CONC_RVPDEF",
         "rawType": "float64",
         "type": "float"
        },
        {
         "name": "QT_CONC_RVSOCIAL_RF",
         "rawType": "float64",
         "type": "float"
        },
        {
         "name": "QT_CONC_RVOUTROS",
         "rawType": "float64",
         "type": "float"
        },
        {
         "name": "QT_SIT_TRANCADA",
         "rawType": "float64",
         "type": "float"
        },
        {
         "name": "QT_SIT_DESVINCULADO",
         "rawType": "float64",
         "type": "float"
        },
        {
         "name": "QT_SIT_TRANSFERIDO",
         "rawType": "float64",
         "type": "float"
        },
        {
         "name": "QT_SIT_FALECIDO",
         "rawType": "float64",
         "type": "float"
        },
        {
         "name": "QT_ING_PROCESCPUBLICA",
         "rawType": "float64",
         "type": "float"
        },
        {
         "name": "QT_ING_PROCESCPRIVADA",
         "rawType": "float64",
         "type": "float"
        },
        {
         "name": "QT_ING_PROCNAOINFORMADA",
         "rawType": "float64",
         "type": "float"
        },
        {
         "name": "QT_MAT_PROCESCPUBLICA",
         "rawType": "float64",
         "type": "float"
        },
        {
         "name": "QT_MAT_PROCESCPRIVADA",
         "rawType": "float64",
         "type": "float"
        },
        {
         "name": "QT_MAT_PROCNAOINFORMADA",
         "rawType": "float64",
         "type": "float"
        },
        {
         "name": "QT_CONC_PROCESCPUBLICA",
         "rawType": "float64",
         "type": "float"
        },
        {
         "name": "QT_CONC_PROCESCPRIVADA",
         "rawType": "float64",
         "type": "float"
        },
        {
         "name": "QT_CONC_PROCNAOINFORMADA",
         "rawType": "float64",
         "type": "float"
        },
        {
         "name": "QT_PARFOR",
         "rawType": "float64",
         "type": "float"
        },
        {
         "name": "QT_ING_PARFOR",
         "rawType": "float64",
         "type": "float"
        },
        {
         "name": "QT_MAT_PARFOR",
         "rawType": "float64",
         "type": "float"
        },
        {
         "name": "QT_CONC_PARFOR",
         "rawType": "float64",
         "type": "float"
        },
        {
         "name": "QT_APOIO_SOCIAL",
         "rawType": "float64",
         "type": "float"
        },
        {
         "name": "QT_ING_APOIO_SOCIAL",
         "rawType": "float64",
         "type": "float"
        },
        {
         "name": "QT_MAT_APOIO_SOCIAL",
         "rawType": "float64",
         "type": "float"
        },
        {
         "name": "QT_CONC_APOIO_SOCIAL",
         "rawType": "float64",
         "type": "float"
        },
        {
         "name": "QT_ATIV_EXTRACURRICULAR",
         "rawType": "float64",
         "type": "float"
        },
        {
         "name": "QT_ING_ATIV_EXTRACURRICULAR",
         "rawType": "float64",
         "type": "float"
        },
        {
         "name": "QT_MAT_ATIV_EXTRACURRICULAR",
         "rawType": "float64",
         "type": "float"
        },
        {
         "name": "QT_CONC_ATIV_EXTRACURRICULAR",
         "rawType": "float64",
         "type": "float"
        },
        {
         "name": "QT_MOB_ACADEMICA",
         "rawType": "float64",
         "type": "float"
        },
        {
         "name": "QT_ING_MOB_ACADEMICA",
         "rawType": "float64",
         "type": "float"
        },
        {
         "name": "QT_MAT_MOB_ACADEMICA",
         "rawType": "float64",
         "type": "float"
        },
        {
         "name": "QT_CONC_MOB_ACADEMICA",
         "rawType": "float64",
         "type": "float"
        },
        {
         "name": "source_file",
         "rawType": "object",
         "type": "string"
        },
        {
         "name": "CO_CINE_ROTULO2",
         "rawType": "object",
         "type": "string"
        },
        {
         "name": "IN_COMUNITARIA",
         "rawType": "float64",
         "type": "float"
        },
        {
         "name": "IN_CONFESSIONAL",
         "rawType": "float64",
         "type": "float"
        }
       ],
       "conversionMethod": "pd.DataFrame",
       "ref": "0a423400-2a08-4248-8fbd-448a7fb4e1d8",
       "rows": [],
       "shape": {
        "columns": 204,
        "rows": 0
       }
      },
      "text/html": [
       "<div>\n",
       "<style scoped>\n",
       "    .dataframe tbody tr th:only-of-type {\n",
       "        vertical-align: middle;\n",
       "    }\n",
       "\n",
       "    .dataframe tbody tr th {\n",
       "        vertical-align: top;\n",
       "    }\n",
       "\n",
       "    .dataframe thead th {\n",
       "        text-align: right;\n",
       "    }\n",
       "</style>\n",
       "<table border=\"1\" class=\"dataframe\">\n",
       "  <thead>\n",
       "    <tr style=\"text-align: right;\">\n",
       "      <th></th>\n",
       "      <th>NU_ANO_CENSO</th>\n",
       "      <th>NO_REGIAO</th>\n",
       "      <th>CO_REGIAO</th>\n",
       "      <th>NO_UF</th>\n",
       "      <th>SG_UF</th>\n",
       "      <th>CO_UF</th>\n",
       "      <th>NO_MUNICIPIO</th>\n",
       "      <th>CO_MUNICIPIO</th>\n",
       "      <th>IN_CAPITAL</th>\n",
       "      <th>TP_DIMENSAO</th>\n",
       "      <th>...</th>\n",
       "      <th>QT_MAT_ATIV_EXTRACURRICULAR</th>\n",
       "      <th>QT_CONC_ATIV_EXTRACURRICULAR</th>\n",
       "      <th>QT_MOB_ACADEMICA</th>\n",
       "      <th>QT_ING_MOB_ACADEMICA</th>\n",
       "      <th>QT_MAT_MOB_ACADEMICA</th>\n",
       "      <th>QT_CONC_MOB_ACADEMICA</th>\n",
       "      <th>source_file</th>\n",
       "      <th>CO_CINE_ROTULO2</th>\n",
       "      <th>IN_COMUNITARIA</th>\n",
       "      <th>IN_CONFESSIONAL</th>\n",
       "    </tr>\n",
       "  </thead>\n",
       "  <tbody>\n",
       "  </tbody>\n",
       "</table>\n",
       "<p>0 rows × 204 columns</p>\n",
       "</div>"
      ],
      "text/plain": [
       "Empty DataFrame\n",
       "Columns: [NU_ANO_CENSO, NO_REGIAO, CO_REGIAO, NO_UF, SG_UF, CO_UF, NO_MUNICIPIO, CO_MUNICIPIO, IN_CAPITAL, TP_DIMENSAO, TP_ORGANIZACAO_ACADEMICA, TP_CATEGORIA_ADMINISTRATIVA, TP_REDE, CO_IES, NO_CURSO, CO_CURSO, NO_CINE_ROTULO, CO_CINE_ROTULO, CO_CINE_AREA_GERAL, NO_CINE_AREA_GERAL, CO_CINE_AREA_ESPECIFICA, NO_CINE_AREA_ESPECIFICA, CO_CINE_AREA_DETALHADA, NO_CINE_AREA_DETALHADA, TP_GRAU_ACADEMICO, IN_GRATUITO, TP_MODALIDADE_ENSINO, TP_NIVEL_ACADEMICO, QT_CURSO, QT_VG_TOTAL, QT_VG_TOTAL_DIURNO, QT_VG_TOTAL_NOTURNO, QT_VG_TOTAL_EAD, QT_VG_NOVA, QT_VG_PROC_SELETIVO, QT_VG_REMANESC, QT_VG_PROG_ESPECIAL, QT_INSCRITO_TOTAL, QT_INSCRITO_TOTAL_DIURNO, QT_INSCRITO_TOTAL_NOTURNO, QT_INSCRITO_TOTAL_EAD, QT_INSC_VG_NOVA, QT_INSC_PROC_SELETIVO, QT_INSC_VG_REMANESC, QT_INSC_VG_PROG_ESPECIAL, QT_ING, QT_ING_FEM, QT_ING_MASC, QT_ING_DIURNO, QT_ING_NOTURNO, QT_ING_VG_NOVA, QT_ING_VESTIBULAR, QT_ING_ENEM, QT_ING_AVALIACAO_SERIADA, QT_ING_SELECAO_SIMPLIFICA, QT_ING_EGR, QT_ING_OUTRO_TIPO_SELECAO, QT_ING_PROC_SELETIVO, QT_ING_VG_REMANESC, QT_ING_VG_PROG_ESPECIAL, QT_ING_OUTRA_FORMA, QT_ING_0_17, QT_ING_18_24, QT_ING_25_29, QT_ING_30_34, QT_ING_35_39, QT_ING_40_49, QT_ING_50_59, QT_ING_60_MAIS, QT_ING_BRANCA, QT_ING_PRETA, QT_ING_PARDA, QT_ING_AMARELA, QT_ING_INDIGENA, QT_ING_CORND, QT_MAT, QT_MAT_FEM, QT_MAT_MASC, QT_MAT_DIURNO, QT_MAT_NOTURNO, QT_MAT_0_17, QT_MAT_18_24, QT_MAT_25_29, QT_MAT_30_34, QT_MAT_35_39, QT_MAT_40_49, QT_MAT_50_59, QT_MAT_60_MAIS, QT_MAT_BRANCA, QT_MAT_PRETA, QT_MAT_PARDA, QT_MAT_AMARELA, QT_MAT_INDIGENA, QT_MAT_CORND, QT_CONC, QT_CONC_FEM, QT_CONC_MASC, QT_CONC_DIURNO, QT_CONC_NOTURNO, QT_CONC_0_17, ...]\n",
       "Index: []\n",
       "\n",
       "[0 rows x 204 columns]"
      ]
     },
     "execution_count": 8,
     "metadata": {},
     "output_type": "execute_result"
    }
   ],
   "source": [
    "df.head()"
   ]
  },
  {
   "cell_type": "code",
   "execution_count": null,
   "metadata": {},
   "outputs": [],
   "source": []
  }
 ],
 "metadata": {
  "kernelspec": {
   "display_name": "mba",
   "language": "python",
   "name": "python3"
  },
  "language_info": {
   "codemirror_mode": {
    "name": "ipython",
    "version": 3
   },
   "file_extension": ".py",
   "mimetype": "text/x-python",
   "name": "python",
   "nbconvert_exporter": "python",
   "pygments_lexer": "ipython3",
   "version": "3.11.9"
  }
 },
 "nbformat": 4,
 "nbformat_minor": 2
}
